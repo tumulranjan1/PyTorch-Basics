{
  "nbformat": 4,
  "nbformat_minor": 0,
  "metadata": {
    "colab": {
      "provenance": [],
      "collapsed_sections": [],
      "authorship_tag": "ABX9TyOrkUNj5h9hLAC7eawRZA6h",
      "include_colab_link": true
    },
    "kernelspec": {
      "name": "python3",
      "display_name": "Python 3"
    },
    "language_info": {
      "name": "python"
    }
  },
  "cells": [
    {
      "cell_type": "markdown",
      "metadata": {
        "id": "view-in-github",
        "colab_type": "text"
      },
      "source": [
        "<a href=\"https://colab.research.google.com/github/tumulranjan1/PyTorch-Basics/blob/main/01_PyTorch_Workflow.ipynb\" target=\"_parent\"><img src=\"https://colab.research.google.com/assets/colab-badge.svg\" alt=\"Open In Colab\"/></a>"
      ]
    },
    {
      "cell_type": "markdown",
      "source": [
        "#PyTorch Workflow\n",
        "\n",
        "Let's explore an example of PyTorch end to end workflow"
      ],
      "metadata": {
        "id": "waSFagiObpMj"
      }
    },
    {
      "cell_type": "code",
      "source": [
        "what_were_covering =  {1: \"data (prepare and load)\",\n",
        "                       2: \"build model\",\n",
        "                       3: \"Fitting the model to data(training)\",\n",
        "                       4: \"Making Predicition\",\n",
        "                       5: \"Saving and loading a model\",\n",
        "                       6: \"putting it all together\"}\n",
        "\n",
        "what_were_covering"
      ],
      "metadata": {
        "colab": {
          "base_uri": "https://localhost:8080/"
        },
        "id": "AkR9I2O0cgwV",
        "outputId": "3873550d-3c9a-4ee4-f328-8f53a8bd58a5"
      },
      "execution_count": null,
      "outputs": [
        {
          "output_type": "execute_result",
          "data": {
            "text/plain": [
              "{1: 'data (prepare and load)',\n",
              " 2: 'build model',\n",
              " 3: 'Fitting the model to data(training)',\n",
              " 4: 'Making Predicition',\n",
              " 5: 'Saving and loading a model',\n",
              " 6: 'putting it all together'}"
            ]
          },
          "metadata": {},
          "execution_count": 1
        }
      ]
    },
    {
      "cell_type": "code",
      "source": [
        "import torch\n",
        "from torch import nn #nn contains all of PyTorch's building blocks for neural networks\n",
        "import matplotlib.pyplot as plt\n",
        "import numpy as np\n",
        "\n",
        "#Checking Pytorch verison\n",
        "torch.__version__"
      ],
      "metadata": {
        "colab": {
          "base_uri": "https://localhost:8080/",
          "height": 35
        },
        "id": "iyYeC5-LdtNJ",
        "outputId": "731130f6-2fea-4f8e-f0f3-662df8ac2c16"
      },
      "execution_count": null,
      "outputs": [
        {
          "output_type": "execute_result",
          "data": {
            "text/plain": [
              "'1.12.1+cu113'"
            ],
            "application/vnd.google.colaboratory.intrinsic+json": {
              "type": "string"
            }
          },
          "metadata": {},
          "execution_count": 2
        }
      ]
    },
    {
      "cell_type": "markdown",
      "source": [
        "# 1. Data (Preparing and loading)\n",
        "\n",
        "Data can be almost anything - \n",
        "* Excel Spreadsheets\n",
        "* Images of any kind\n",
        "* Videos\n",
        "* Audio\n",
        "* DNA\n",
        "* Text\n",
        "\n",
        "Machine Learning is a game of two parts\n",
        "\n",
        "1. Get data into a numerical representation\n",
        "2. Build a model to learn patterns in that numerical representation\n",
        "\n",
        "To showcase this, let's create some *known* data using the linear regression formula\n",
        "\n",
        "We'll use a linear regression formula to make a straight line with *known* **parameters**"
      ],
      "metadata": {
        "id": "sqtj2VTGeTek"
      }
    },
    {
      "cell_type": "code",
      "source": [
        "# Create *known* parameters \n",
        "\n",
        "weights = 0.7\n",
        "bias = 0.3\n",
        "\n",
        "# Create \n",
        "\n",
        "start = 0\n",
        "end = 1\n",
        "step = 0.02\n",
        "X = torch.arange(start,end,step).unsqueeze(dim=1)\n",
        "Y = weights * X + bias\n",
        "\n",
        "X[:10],Y[:10]"
      ],
      "metadata": {
        "id": "HTL-uwxre0Sa",
        "colab": {
          "base_uri": "https://localhost:8080/"
        },
        "outputId": "c1727ba2-147f-40e1-c153-d543aef79857"
      },
      "execution_count": null,
      "outputs": [
        {
          "output_type": "execute_result",
          "data": {
            "text/plain": [
              "(tensor([[0.0000],\n",
              "         [0.0200],\n",
              "         [0.0400],\n",
              "         [0.0600],\n",
              "         [0.0800],\n",
              "         [0.1000],\n",
              "         [0.1200],\n",
              "         [0.1400],\n",
              "         [0.1600],\n",
              "         [0.1800]]), tensor([[0.3000],\n",
              "         [0.3140],\n",
              "         [0.3280],\n",
              "         [0.3420],\n",
              "         [0.3560],\n",
              "         [0.3700],\n",
              "         [0.3840],\n",
              "         [0.3980],\n",
              "         [0.4120],\n",
              "         [0.4260]]))"
            ]
          },
          "metadata": {},
          "execution_count": 3
        }
      ]
    },
    {
      "cell_type": "code",
      "source": [
        "len(X), len(Y)"
      ],
      "metadata": {
        "colab": {
          "base_uri": "https://localhost:8080/"
        },
        "id": "y60lnmjfZEWD",
        "outputId": "29250c67-bfc9-4f4c-d7ab-320b1ac40049"
      },
      "execution_count": null,
      "outputs": [
        {
          "output_type": "execute_result",
          "data": {
            "text/plain": [
              "(50, 50)"
            ]
          },
          "metadata": {},
          "execution_count": 4
        }
      ]
    },
    {
      "cell_type": "markdown",
      "source": [
        "### Splitting data into training and test sets (One of the most important concepts in Machine Learning in general)\n",
        "\n",
        "Let's create a training and test set with our data"
      ],
      "metadata": {
        "id": "DheimXnRZWwo"
      }
    },
    {
      "cell_type": "code",
      "source": [
        "# Create a train-test split\n",
        "\n",
        "train_split = int(0.8 * len(X))\n",
        "X_train, Y_train = X[:train_split], Y[:train_split]\n",
        "X_test, Y_test = X[train_split:], Y[train_split:]\n",
        "\n",
        "len(X_train), len(Y_train), len(X_test), len(Y_test)"
      ],
      "metadata": {
        "colab": {
          "base_uri": "https://localhost:8080/"
        },
        "id": "0caU8embBNBA",
        "outputId": "5830c9e6-8cf9-4008-c434-7d787d353d52"
      },
      "execution_count": null,
      "outputs": [
        {
          "output_type": "execute_result",
          "data": {
            "text/plain": [
              "(40, 40, 10, 10)"
            ]
          },
          "metadata": {},
          "execution_count": 5
        }
      ]
    },
    {
      "cell_type": "code",
      "source": [
        "X_train, Y_train"
      ],
      "metadata": {
        "colab": {
          "base_uri": "https://localhost:8080/"
        },
        "id": "7qrSCCNzCU4N",
        "outputId": "a6c2d853-2132-4ff0-d1a4-78d539dea4de"
      },
      "execution_count": null,
      "outputs": [
        {
          "output_type": "execute_result",
          "data": {
            "text/plain": [
              "(tensor([[0.0000],\n",
              "         [0.0200],\n",
              "         [0.0400],\n",
              "         [0.0600],\n",
              "         [0.0800],\n",
              "         [0.1000],\n",
              "         [0.1200],\n",
              "         [0.1400],\n",
              "         [0.1600],\n",
              "         [0.1800],\n",
              "         [0.2000],\n",
              "         [0.2200],\n",
              "         [0.2400],\n",
              "         [0.2600],\n",
              "         [0.2800],\n",
              "         [0.3000],\n",
              "         [0.3200],\n",
              "         [0.3400],\n",
              "         [0.3600],\n",
              "         [0.3800],\n",
              "         [0.4000],\n",
              "         [0.4200],\n",
              "         [0.4400],\n",
              "         [0.4600],\n",
              "         [0.4800],\n",
              "         [0.5000],\n",
              "         [0.5200],\n",
              "         [0.5400],\n",
              "         [0.5600],\n",
              "         [0.5800],\n",
              "         [0.6000],\n",
              "         [0.6200],\n",
              "         [0.6400],\n",
              "         [0.6600],\n",
              "         [0.6800],\n",
              "         [0.7000],\n",
              "         [0.7200],\n",
              "         [0.7400],\n",
              "         [0.7600],\n",
              "         [0.7800]]), tensor([[0.3000],\n",
              "         [0.3140],\n",
              "         [0.3280],\n",
              "         [0.3420],\n",
              "         [0.3560],\n",
              "         [0.3700],\n",
              "         [0.3840],\n",
              "         [0.3980],\n",
              "         [0.4120],\n",
              "         [0.4260],\n",
              "         [0.4400],\n",
              "         [0.4540],\n",
              "         [0.4680],\n",
              "         [0.4820],\n",
              "         [0.4960],\n",
              "         [0.5100],\n",
              "         [0.5240],\n",
              "         [0.5380],\n",
              "         [0.5520],\n",
              "         [0.5660],\n",
              "         [0.5800],\n",
              "         [0.5940],\n",
              "         [0.6080],\n",
              "         [0.6220],\n",
              "         [0.6360],\n",
              "         [0.6500],\n",
              "         [0.6640],\n",
              "         [0.6780],\n",
              "         [0.6920],\n",
              "         [0.7060],\n",
              "         [0.7200],\n",
              "         [0.7340],\n",
              "         [0.7480],\n",
              "         [0.7620],\n",
              "         [0.7760],\n",
              "         [0.7900],\n",
              "         [0.8040],\n",
              "         [0.8180],\n",
              "         [0.8320],\n",
              "         [0.8460]]))"
            ]
          },
          "metadata": {},
          "execution_count": 6
        }
      ]
    },
    {
      "cell_type": "markdown",
      "source": [
        "## How might be better visualise our data\n",
        "\n",
        "This is where the data explorer's motto comes in\n",
        "\n",
        "# \"Visualize!\""
      ],
      "metadata": {
        "id": "i7oZCdzfF1-m"
      }
    },
    {
      "cell_type": "code",
      "source": [
        "def plot_prediction(train_data=X_train,\n",
        "                    train_label=Y_train,\n",
        "                    test_data=X_test,\n",
        "                    test_labels=Y_test,\n",
        "                    predictions=None):\n",
        "  \"\"\"\n",
        "  Plots training data, test data and compare predictions.\n",
        "  \"\"\"\n",
        "  \n",
        "  plt.figure(figsize=(10, 7))\n",
        "\n",
        "  #Plot training data in blue\n",
        "  plt.scatter(train_data,train_label,c=\"b\", s=4, label=\"Training data\")\n",
        "\n",
        "  #Plot test data in green\n",
        "  plt.scatter(test_data,test_labels,c=\"g\",s=4,label=\"Test Data\")\n",
        "\n",
        "  #Are there predicitons?\n",
        "  if predictions is not None:\n",
        "    plt.scatter(test_data,predictions,c=\"r\",s=4,label=\"Predictions\")\n",
        "\n",
        "\n",
        "  #Show the legend\n",
        "  plt.legend(prop={\"size\":14});\n"
      ],
      "metadata": {
        "id": "ijYEnDjAGDVG"
      },
      "execution_count": null,
      "outputs": []
    },
    {
      "cell_type": "code",
      "source": [
        "plot_prediction()"
      ],
      "metadata": {
        "colab": {
          "base_uri": "https://localhost:8080/",
          "height": 428
        },
        "id": "Lmp65ClcHiit",
        "outputId": "4e615e66-1db4-47bc-bb28-5fb703ec62f8"
      },
      "execution_count": null,
      "outputs": [
        {
          "output_type": "display_data",
          "data": {
            "text/plain": [
              "<Figure size 720x504 with 1 Axes>"
            ],
            "image/png": "[encoded data removed]"
          },
          "metadata": {
            "needs_background": "light"
          }
        }
      ]
    },
    {
      "cell_type": "markdown",
      "source": [
        "## 2. Building model\n",
        "\n",
        "Our first PyTorch model\n",
        "\n",
        "What our Model does:\n",
        "* Start with random values (weight and bias)\n",
        "* Look at training data and adjust the random values to better represent (or get closer to) the ideal values (the weight and bias values we used to create the data)\n",
        "\n",
        "How does it do so?\n",
        "\n",
        "Through two main algo:\n",
        "1. Gradient Descent\n",
        "2. Back propogation"
      ],
      "metadata": {
        "id": "lDqeEFWtIclL"
      }
    },
    {
      "cell_type": "code",
      "source": [
        "# Create Linear regression model class\n",
        "from torch import nn\n",
        "class LinearRegressionModel(nn.Module):  # <- Almost everything in PyTorch inherits from nn.Module\n",
        "  def __init__(self):\n",
        "    super().__init__()\n",
        "    self.weights = nn.Parameter(torch.randn(1,\n",
        "                                            requires_grad=True,\n",
        "                                            dtype=torch.float))\n",
        "    self.bias = nn.Parameter(torch.randn(1,\n",
        "                                         requires_grad=True,\n",
        "                                         dtype=torch.float))\n",
        "    #Forward method to define the computation in the model\n",
        "  def forward(self,x: torch.Tensor) -> torch.Tensor:\n",
        "    return self.weights*x + self.bias # This is the linear regression formula"
      ],
      "metadata": {
        "id": "NQEaxEldLUnu"
      },
      "execution_count": null,
      "outputs": []
    },
    {
      "cell_type": "markdown",
      "source": [
        "### Pytorch model building essentials\n",
        "\n",
        "* `torch.nn` - contains all of the buildings for computational graphs(a neural network can be considered a computational graph)\n",
        "* `torch.nn.Paramenter` - What parameters should our model try and learn, often a PyTorch layer from torch.nn will set this for us\n",
        "* `torch.nn.Module` - The base class for all neural network modules, if you subclass it, you should overwrite forward\n",
        "* `torch.optim` - The place for all optimizers in PyTorch, help with gradient descent\n",
        "* `def forward()` - All nn.Module subclasses require you to overwrite forward"
      ],
      "metadata": {
        "id": "H1f-VrfmluVp"
      }
    },
    {
      "cell_type": "markdown",
      "source": [
        "### Checking the contents of our PyTorch Model\n",
        "\n",
        "Now we've create a model, let's see what's inside....\n",
        "\n",
        "So we can check out our Model Parameters or what's inside our model using `.parameters()`\n",
        "\n"
      ],
      "metadata": {
        "id": "8Dk2ZeAunREZ"
      }
    },
    {
      "cell_type": "code",
      "source": [
        "# Create a random seed\n",
        "\n",
        "torch.manual_seed(42)\n",
        "\n",
        "# Create an instance of the model (this is the subclass of nn.Module)\n",
        "\n",
        "model_0 = LinearRegressionModel()\n",
        "\n",
        "# Check out the parameters\n",
        "list(model_0.parameters())"
      ],
      "metadata": {
        "colab": {
          "base_uri": "https://localhost:8080/"
        },
        "id": "8qoyKDPXpHnv",
        "outputId": "4707cb9e-6a40-430b-d68c-558a72593659"
      },
      "execution_count": null,
      "outputs": [
        {
          "output_type": "execute_result",
          "data": {
            "text/plain": [
              "[Parameter containing:\n",
              " tensor([0.3367], requires_grad=True), Parameter containing:\n",
              " tensor([0.1288], requires_grad=True)]"
            ]
          },
          "metadata": {},
          "execution_count": 25
        }
      ]
    },
    {
      "cell_type": "code",
      "source": [
        "# Listing name parameters\n",
        "\n",
        "model_0.state_dict()"
      ],
      "metadata": {
        "colab": {
          "base_uri": "https://localhost:8080/"
        },
        "id": "44aQA9RmpU1o",
        "outputId": "0de29de5-5b3e-4276-fb3a-83d6a5f9c4b6"
      },
      "execution_count": null,
      "outputs": [
        {
          "output_type": "execute_result",
          "data": {
            "text/plain": [
              "OrderedDict([('weights', tensor([0.3367])), ('bias', tensor([0.1288]))])"
            ]
          },
          "metadata": {},
          "execution_count": 26
        }
      ]
    },
    {
      "cell_type": "code",
      "source": [
        "weights, bias"
      ],
      "metadata": {
        "colab": {
          "base_uri": "https://localhost:8080/"
        },
        "id": "IJD6NZ06qQTs",
        "outputId": "d146edb9-af01-4f32-8945-bdf97d0e3c23"
      },
      "execution_count": null,
      "outputs": [
        {
          "output_type": "execute_result",
          "data": {
            "text/plain": [
              "(0.7, 0.3)"
            ]
          },
          "metadata": {},
          "execution_count": 27
        }
      ]
    },
    {
      "cell_type": "markdown",
      "source": [
        "### Making predictions using `torch.inference_mode()`\n",
        "\n",
        "To check our model's predictive power, let's see how well it predicts Y_test based on X_test\n",
        "\n",
        "When we pass data through our model, its going to run it through the `forward()` method"
      ],
      "metadata": {
        "id": "3OTTYbgrq1WP"
      }
    },
    {
      "cell_type": "code",
      "source": [
        "# Make Predictions with model\n",
        "\n",
        "with torch.inference_mode():\n",
        "  y_preds = model_0(X_test)\n",
        "\n",
        "# You can also do something similar with torch.no_grad(), however, inference mode is preffered\n",
        "\n",
        "y_preds"
      ],
      "metadata": {
        "colab": {
          "base_uri": "https://localhost:8080/"
        },
        "id": "IKxUcwMNrXgl",
        "outputId": "3c8b3e9a-072b-4c0d-9f97-b830f65daabe"
      },
      "execution_count": null,
      "outputs": [
        {
          "output_type": "execute_result",
          "data": {
            "text/plain": [
              "tensor([[0.3982],\n",
              "        [0.4049],\n",
              "        [0.4116],\n",
              "        [0.4184],\n",
              "        [0.4251],\n",
              "        [0.4318],\n",
              "        [0.4386],\n",
              "        [0.4453],\n",
              "        [0.4520],\n",
              "        [0.4588]])"
            ]
          },
          "metadata": {},
          "execution_count": 28
        }
      ]
    },
    {
      "cell_type": "code",
      "source": [
        "Y_test"
      ],
      "metadata": {
        "colab": {
          "base_uri": "https://localhost:8080/"
        },
        "id": "4VQ3XpnlrtTg",
        "outputId": "49cabb1f-f918-4918-cd15-9532118b2b57"
      },
      "execution_count": null,
      "outputs": [
        {
          "output_type": "execute_result",
          "data": {
            "text/plain": [
              "tensor([[0.8600],\n",
              "        [0.8740],\n",
              "        [0.8880],\n",
              "        [0.9020],\n",
              "        [0.9160],\n",
              "        [0.9300],\n",
              "        [0.9440],\n",
              "        [0.9580],\n",
              "        [0.9720],\n",
              "        [0.9860]])"
            ]
          },
          "metadata": {},
          "execution_count": 29
        }
      ]
    },
    {
      "cell_type": "code",
      "source": [
        "plot_prediction(predictions=y_preds)"
      ],
      "metadata": {
        "colab": {
          "base_uri": "https://localhost:8080/",
          "height": 428
        },
        "id": "98qhi1X9vXLc",
        "outputId": "8dc9ff23-8907-4f03-fa6f-6f89af4b0528"
      },
      "execution_count": null,
      "outputs": [
        {
          "output_type": "display_data",
          "data": {
            "text/plain": [
              "<Figure size 720x504 with 1 Axes>"
            ],
            "image/png": "[encoded data removed]"
          },
          "metadata": {
            "needs_background": "light"
          }
        }
      ]
    },
    {
      "cell_type": "markdown",
      "source": [
        "### Train mode\n",
        "The whole idea of training is for a model to move from some *unknown* parameters (these may be random) to some *known* parameters.\n",
        "\n",
        "Or in other words, from a poor representation of data to better representation of data\n",
        "\n",
        "One way to measure how poor or how wrong your model's prediction are, is to use a loss function\n",
        "\n",
        "* Note: Loss function may also be called cost function or criterion in different areas. For our case, we're going to refer to it as a loss function.\n",
        "\n",
        "Things we need to train:\n",
        "* **Loss Function** : A function to measure how wrong you model's predictions are to the ideal outputs, lower is better.\n",
        "\n",
        "* **Optimizer** : Takes into account the loss of a model and adjusts the model's parameters (e.g. weight and bias in our case to improve the loss function.)\n",
        "\n",
        "And specifically for PyTorch, we need\n",
        "* Training loop\n",
        "* Testing loop"
      ],
      "metadata": {
        "id": "7Cjai-W1vfmZ"
      }
    },
    {
      "cell_type": "code",
      "source": [
        "# Setup a loss function\n",
        "loss_fn = nn.L1Loss()\n",
        "\n",
        "# Setup an optimizer (stochastic gradient descent)\n",
        "optimizer = torch.optim.SGD(params=model_0.parameters(),\n",
        "                            lr=0.01)       #lr = learning rate = possible the most important learning hyper parameter you can set\n"
      ],
      "metadata": {
        "id": "e7WoCfruz81U"
      },
      "execution_count": null,
      "outputs": []
    },
    {
      "cell_type": "markdown",
      "source": [
        "### Building a training and testing loop in PyTorch\n",
        "\n",
        "A couple of things we need in a training loop :\n",
        "\n",
        "0. Loop through the data\n",
        "1. forward pass (this involves data moving through our model's `forward()` function to make predictions on data - also called forward propogation\n",
        "2. Calculate the loss (compare forward pass predictions to ground truth labels)\n",
        "3. Optimizer zero grad\n",
        "4. Loss backward - move backwards through the network to calculate the gradients of each of the parameters of our model with respect to the loss (**backpropagation**)\n",
        "5. Optimizer step - use the optimizer to adjust our model's parameters to try and remove our loss (**gradient descent**)\n"
      ],
      "metadata": {
        "id": "BhYVf7P85Q_l"
      }
    },
    {
      "cell_type": "code",
      "source": [
        "torch.manual_seed(42)\n",
        "# An epoch is one loop through the data..(this is a hyperparameter because we've set it ourselves)\n",
        "epochs = 200\n",
        "\n",
        "epoch_count = []\n",
        "loss_values = []\n",
        "test_loss_values = []\n",
        "\n",
        "### Training \n",
        "# 0. Loop through the data\n",
        "for epoch in range(epochs):  # Pass the data through the model\n",
        "  # Set the model to training mode\n",
        "  model_0.train() # train mode in PyTorch sets all parameters that require gradients to requre gradients\n",
        "  \n",
        "  # 1. Forward pass\n",
        "  y_pred = model_0(X_train) # Pass the data through the model, this will perform the forward() method located within the model object\n",
        "\n",
        "  # 2. Calculating loss\n",
        "  loss = loss_fn(y_pred,Y_train) \n",
        "\n",
        "  # 3. Optimizer zero grad\n",
        "  optimizer.zero_grad() # \n",
        "\n",
        "  # 4. Perform backpropagation on the loss with respect to the parameters of the model\n",
        "  loss.backward()\n",
        "\n",
        "  # 5. Step the optimizer\n",
        "  optimizer.step() # by default how the optimizer changes will accumulate through the loop so we have to zero them above step 3 for the next iteration of the loop\n",
        "\n",
        "  ### Testing\n",
        "  model_0.eval() # turns off different settings in the model not needed for evaluation/testing\n",
        "  with torch.inference_mode():\n",
        "     # 1. Forward pass\n",
        "     test_pred = model_0(X_test)\n",
        "\n",
        "     # 2. Calculate the loss\n",
        "     test_loss = loss_fn(test_pred, Y_test)\n",
        "  # Ayo there's a hell lot going on we need to print what's going on\n",
        "  if epoch % 10 == 0:\n",
        "    epoch_count.append(epoch)\n",
        "    loss_values.append(loss)\n",
        "    test_loss_values.append(test_loss)\n",
        "    print(f\"Epoch:{epoch} | Loss: {loss} | Test loss : {test_loss}\")\n",
        "    print(model_0.state_dict())"
      ],
      "metadata": {
        "id": "RF7KRftX9lk0",
        "colab": {
          "base_uri": "https://localhost:8080/"
        },
        "outputId": "4ec74ed8-f548-4ec0-9f39-6e01d669701a"
      },
      "execution_count": null,
      "outputs": [
        {
          "output_type": "stream",
          "name": "stdout",
          "text": [
            "Epoch:0 | Loss: 0.31288138031959534 | Test loss : 0.48106518387794495\n",
            "OrderedDict([('weights', tensor([0.3406])), ('bias', tensor([0.1388]))])\n",
            "Epoch:10 | Loss: 0.1976713240146637 | Test loss : 0.3463551998138428\n",
            "OrderedDict([('weights', tensor([0.3796])), ('bias', tensor([0.2388]))])\n",
            "Epoch:20 | Loss: 0.08908725529909134 | Test loss : 0.21729660034179688\n",
            "OrderedDict([('weights', tensor([0.4184])), ('bias', tensor([0.3333]))])\n",
            "Epoch:30 | Loss: 0.053148526698350906 | Test loss : 0.14464017748832703\n",
            "OrderedDict([('weights', tensor([0.4512])), ('bias', tensor([0.3768]))])\n",
            "Epoch:40 | Loss: 0.04543796554207802 | Test loss : 0.11360953003168106\n",
            "OrderedDict([('weights', tensor([0.4748])), ('bias', tensor([0.3868]))])\n",
            "Epoch:50 | Loss: 0.04167863354086876 | Test loss : 0.09919948130846024\n",
            "OrderedDict([('weights', tensor([0.4938])), ('bias', tensor([0.3843]))])\n",
            "Epoch:60 | Loss: 0.03818932920694351 | Test loss : 0.08886633068323135\n",
            "OrderedDict([('weights', tensor([0.5116])), ('bias', tensor([0.3788]))])\n",
            "Epoch:70 | Loss: 0.03476089984178543 | Test loss : 0.0805937647819519\n",
            "OrderedDict([('weights', tensor([0.5288])), ('bias', tensor([0.3718]))])\n",
            "Epoch:80 | Loss: 0.03132382780313492 | Test loss : 0.07232122868299484\n",
            "OrderedDict([('weights', tensor([0.5459])), ('bias', tensor([0.3648]))])\n",
            "Epoch:90 | Loss: 0.02788739837706089 | Test loss : 0.06473556160926819\n",
            "OrderedDict([('weights', tensor([0.5629])), ('bias', tensor([0.3573]))])\n",
            "Epoch:100 | Loss: 0.024458957836031914 | Test loss : 0.05646304413676262\n",
            "OrderedDict([('weights', tensor([0.5800])), ('bias', tensor([0.3503]))])\n",
            "Epoch:110 | Loss: 0.021020207554101944 | Test loss : 0.04819049686193466\n",
            "OrderedDict([('weights', tensor([0.5972])), ('bias', tensor([0.3433]))])\n",
            "Epoch:120 | Loss: 0.01758546568453312 | Test loss : 0.04060482233762741\n",
            "OrderedDict([('weights', tensor([0.6141])), ('bias', tensor([0.3358]))])\n",
            "Epoch:130 | Loss: 0.014155393466353416 | Test loss : 0.03233227878808975\n",
            "OrderedDict([('weights', tensor([0.6313])), ('bias', tensor([0.3288]))])\n",
            "Epoch:140 | Loss: 0.010716589167714119 | Test loss : 0.024059748277068138\n",
            "OrderedDict([('weights', tensor([0.6485])), ('bias', tensor([0.3218]))])\n",
            "Epoch:150 | Loss: 0.0072835334576666355 | Test loss : 0.016474086791276932\n",
            "OrderedDict([('weights', tensor([0.6654])), ('bias', tensor([0.3143]))])\n",
            "Epoch:160 | Loss: 0.0038517764769494534 | Test loss : 0.008201557211577892\n",
            "OrderedDict([('weights', tensor([0.6826])), ('bias', tensor([0.3073]))])\n",
            "Epoch:170 | Loss: 0.008932482451200485 | Test loss : 0.005023092031478882\n",
            "OrderedDict([('weights', tensor([0.6951])), ('bias', tensor([0.2993]))])\n",
            "Epoch:180 | Loss: 0.008932482451200485 | Test loss : 0.005023092031478882\n",
            "OrderedDict([('weights', tensor([0.6951])), ('bias', tensor([0.2993]))])\n",
            "Epoch:190 | Loss: 0.008932482451200485 | Test loss : 0.005023092031478882\n",
            "OrderedDict([('weights', tensor([0.6951])), ('bias', tensor([0.2993]))])\n"
          ]
        }
      ]
    },
    {
      "cell_type": "code",
      "source": [
        "np.array(torch.tensor(loss_values).numpy()), test_loss_values"
      ],
      "metadata": {
        "colab": {
          "base_uri": "https://localhost:8080/"
        },
        "id": "kfotU7pOX5nh",
        "outputId": "b85131c8-4310-44e7-ed20-1d67a441b892"
      },
      "execution_count": null,
      "outputs": [
        {
          "output_type": "execute_result",
          "data": {
            "text/plain": [
              "(array([0.31288138, 0.19767132, 0.08908726, 0.05314853, 0.04543797,\n",
              "        0.04167863, 0.03818933, 0.0347609 , 0.03132383, 0.0278874 ,\n",
              "        0.02445896, 0.02102021, 0.01758547, 0.01415539, 0.01071659,\n",
              "        0.00728353, 0.00385178, 0.00893248, 0.00893248, 0.00893248],\n",
              "       dtype=float32),\n",
              " [tensor(0.4811),\n",
              "  tensor(0.3464),\n",
              "  tensor(0.2173),\n",
              "  tensor(0.1446),\n",
              "  tensor(0.1136),\n",
              "  tensor(0.0992),\n",
              "  tensor(0.0889),\n",
              "  tensor(0.0806),\n",
              "  tensor(0.0723),\n",
              "  tensor(0.0647),\n",
              "  tensor(0.0565),\n",
              "  tensor(0.0482),\n",
              "  tensor(0.0406),\n",
              "  tensor(0.0323),\n",
              "  tensor(0.0241),\n",
              "  tensor(0.0165),\n",
              "  tensor(0.0082),\n",
              "  tensor(0.0050),\n",
              "  tensor(0.0050),\n",
              "  tensor(0.0050)])"
            ]
          },
          "metadata": {},
          "execution_count": 33
        }
      ]
    },
    {
      "cell_type": "code",
      "source": [
        "\n",
        "plt.plot(epoch_count,np.array(torch.tensor(loss_values).numpy()),label=\"Train Loss\")\n",
        "plt.plot(epoch_count,test_loss_values,label=\"Test Loss\")\n",
        "plt.title(\"Training and test loss curves\")\n",
        "plt.ylabel(\"Loss\")\n",
        "plt.xlabel(\"Epochs\")\n"
      ],
      "metadata": {
        "colab": {
          "base_uri": "https://localhost:8080/",
          "height": 313
        },
        "id": "BlU8ph-4YFKs",
        "outputId": "567eda33-46d8-4460-f3ed-d2a2e2964e12"
      },
      "execution_count": null,
      "outputs": [
        {
          "output_type": "execute_result",
          "data": {
            "text/plain": [
              "Text(0.5, 0, 'Epochs')"
            ]
          },
          "metadata": {},
          "execution_count": 34
        },
        {
          "output_type": "display_data",
          "data": {
            "text/plain": [
              "<Figure size 432x288 with 1 Axes>"
            ],
            "image/png": "[encoded data removed]"
          },
          "metadata": {
            "needs_background": "light"
          }
        }
      ]
    },
    {
      "cell_type": "code",
      "source": [
        "with torch.inference_mode():\n",
        "  y_preds_new = model_0(X_test)"
      ],
      "metadata": {
        "id": "SWbAPv_cLY0c"
      },
      "execution_count": null,
      "outputs": []
    },
    {
      "cell_type": "code",
      "source": [
        "plot_prediction(predictions=y_preds_new)"
      ],
      "metadata": {
        "colab": {
          "base_uri": "https://localhost:8080/",
          "height": 428
        },
        "id": "eVI3WbnaMKQx",
        "outputId": "c5a887fb-345a-4455-95fb-0af97f716745"
      },
      "execution_count": null,
      "outputs": [
        {
          "output_type": "display_data",
          "data": {
            "text/plain": [
              "<Figure size 720x504 with 1 Axes>"
            ],
            "image/png": "[encoded data removed]"
          },
          "metadata": {
            "needs_background": "light"
          }
        }
      ]
    },
    {
      "cell_type": "markdown",
      "source": [
        "## Saving a model in PyTorch\n",
        "\n",
        "There are three main methods you should know about for saving and loading models in PyTorch\n",
        "\n",
        "1. `torch.save()` - allows you to save a PyTorch object in Python's pickle format \n",
        "2. `torch.load()` - allows you to load a saved PyTorch object\n",
        "3. `torch.nn.Module.load_state_dict()` - this allows to load a model's saved state dictionary"
      ],
      "metadata": {
        "id": "qZ-9Ep0ZfbKA"
      }
    },
    {
      "cell_type": "code",
      "source": [
        "# Saving our PyTorch model\n",
        "\n",
        "from pathlib import Path\n",
        "\n",
        "# 1. Create model's directory\n",
        "MODEL_PATH = Path(\"models\")\n",
        "MODEL_PATH.mkdir(parents=True, exist_ok=True)\n",
        "\n",
        "# 2. Create Model save path\n",
        "MODEL_NAME = \"01_PyTorch_Workflow_model_0.pth\"\n",
        "MODEL_SAVE_PATH = MODEL_PATH / MODEL_NAME\n",
        "\n",
        "# 3. Save the model state_dict\n",
        "print(f\"Saving Model to: {MODEL_SAVE_PATH}\")\n",
        "torch.save(obj=model_0.state_dict(),\n",
        "           f=MODEL_SAVE_PATH)"
      ],
      "metadata": {
        "colab": {
          "base_uri": "https://localhost:8080/"
        },
        "id": "YCJjvGAWf5rO",
        "outputId": "a8a08689-f34f-4adc-cab0-e2b99a4c851c"
      },
      "execution_count": null,
      "outputs": [
        {
          "output_type": "stream",
          "name": "stdout",
          "text": [
            "Saving Model to: models/01_PyTorch_Workflow_model_0.pth\n"
          ]
        }
      ]
    },
    {
      "cell_type": "code",
      "source": [
        "!ls -l models"
      ],
      "metadata": {
        "colab": {
          "base_uri": "https://localhost:8080/"
        },
        "id": "deF3RGCIgnYi",
        "outputId": "99e2bc24-2bbc-41c5-fa47-29f14ed7c7e0"
      },
      "execution_count": null,
      "outputs": [
        {
          "output_type": "stream",
          "name": "stdout",
          "text": [
            "total 4\n",
            "-rw-r--r-- 1 root root 1063 Oct 30 15:38 01_PyTorch_Workflow_model_0.pth\n"
          ]
        }
      ]
    },
    {
      "cell_type": "markdown",
      "source": [
        "## Loading a PyTorch Model\n",
        "Since we saved our model's `state_dict()` rather than the entire model, we'll create a new instance of our model class and load the `state_dict()` into that"
      ],
      "metadata": {
        "id": "cBjSeMH5jXsV"
      }
    },
    {
      "cell_type": "code",
      "source": [
        "# To load in a saved state_dict() we have to instantiate a new instance of our model class\n",
        "\n",
        "loaded_model_0 = LinearRegressionModel()\n",
        "\n",
        "# Load the saved state_dict of model_0 (this will update the new instance with updated paramters)\n",
        "loaded_model_0.load_state_dict(torch.load(f=MODEL_SAVE_PATH))\n"
      ],
      "metadata": {
        "colab": {
          "base_uri": "https://localhost:8080/"
        },
        "id": "5DelsgiHkJnH",
        "outputId": "69be4fc6-15a6-4da4-e62b-a43bb80aceff"
      },
      "execution_count": null,
      "outputs": [
        {
          "output_type": "execute_result",
          "data": {
            "text/plain": [
              "<All keys matched successfully>"
            ]
          },
          "metadata": {},
          "execution_count": 50
        }
      ]
    },
    {
      "cell_type": "code",
      "source": [
        "loaded_model_0.state_dict()"
      ],
      "metadata": {
        "colab": {
          "base_uri": "https://localhost:8080/"
        },
        "id": "X7NmYH0ulhDA",
        "outputId": "799bc3fb-458e-41dd-fd84-5364945e6549"
      },
      "execution_count": null,
      "outputs": [
        {
          "output_type": "execute_result",
          "data": {
            "text/plain": [
              "OrderedDict([('weights', tensor([0.6990])), ('bias', tensor([0.3093]))])"
            ]
          },
          "metadata": {},
          "execution_count": 51
        }
      ]
    },
    {
      "cell_type": "code",
      "source": [
        "# Make some predictions with our loaded model\n",
        "\n",
        "loaded_model_0.eval()\n",
        "\n",
        "with torch.inference_mode():\n",
        "  loaded_model_preds = loaded_model_0(X_test)\n",
        "\n",
        "loaded_model_preds"
      ],
      "metadata": {
        "colab": {
          "base_uri": "https://localhost:8080/"
        },
        "id": "qeq8JLaGlj_V",
        "outputId": "cb301a26-de8f-4184-a5fd-9c119ebabdfb"
      },
      "execution_count": null,
      "outputs": [
        {
          "output_type": "execute_result",
          "data": {
            "text/plain": [
              "tensor([[0.8685],\n",
              "        [0.8825],\n",
              "        [0.8965],\n",
              "        [0.9105],\n",
              "        [0.9245],\n",
              "        [0.9384],\n",
              "        [0.9524],\n",
              "        [0.9664],\n",
              "        [0.9804],\n",
              "        [0.9944]])"
            ]
          },
          "metadata": {},
          "execution_count": 52
        }
      ]
    },
    {
      "cell_type": "code",
      "source": [
        "model_0.eval()\n",
        "with torch.inference_mode():\n",
        "  y_preds = model_0(X_test)\n",
        "\n",
        "y_preds"
      ],
      "metadata": {
        "colab": {
          "base_uri": "https://localhost:8080/"
        },
        "id": "QnTCQTw8l6vd",
        "outputId": "0a0b1565-96d0-40b2-c035-b9f272323ee0"
      },
      "execution_count": null,
      "outputs": [
        {
          "output_type": "execute_result",
          "data": {
            "text/plain": [
              "tensor([[0.8685],\n",
              "        [0.8825],\n",
              "        [0.8965],\n",
              "        [0.9105],\n",
              "        [0.9245],\n",
              "        [0.9384],\n",
              "        [0.9524],\n",
              "        [0.9664],\n",
              "        [0.9804],\n",
              "        [0.9944]])"
            ]
          },
          "metadata": {},
          "execution_count": 55
        }
      ]
    },
    {
      "cell_type": "code",
      "source": [
        "# Compare loaded model preds with original model preds \n",
        "\n",
        "y_preds == loaded_model_preds"
      ],
      "metadata": {
        "colab": {
          "base_uri": "https://localhost:8080/"
        },
        "id": "Rcey0_SnlxPx",
        "outputId": "97f1762e-ad59-4f48-b6a1-cf7ae8604a0f"
      },
      "execution_count": null,
      "outputs": [
        {
          "output_type": "execute_result",
          "data": {
            "text/plain": [
              "tensor([[True],\n",
              "        [True],\n",
              "        [True],\n",
              "        [True],\n",
              "        [True],\n",
              "        [True],\n",
              "        [True],\n",
              "        [True],\n",
              "        [True],\n",
              "        [True]])"
            ]
          },
          "metadata": {},
          "execution_count": 56
        }
      ]
    }
  ]
}